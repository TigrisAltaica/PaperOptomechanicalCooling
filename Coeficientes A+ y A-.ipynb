{
 "cells": [
  {
   "cell_type": "markdown",
   "metadata": {},
   "source": [
    "El objetivo es calcular los coeficientes A+ y A- en base a los valores de las distintas frecuencias involucradas y del detuning debido al laser. Defino una función para calcular G y otra que calcula A+ y A- en base a G\n",
    "\n",
    "$$G(\\nu,\\omega,\\lambda)=\\frac{-\\chi^2 \\alpha^2}{\\lambda + i\\nu_0} + i\\epsilon C $$,\n",
    "\n",
    "en particular me interesa conocer el valor de G con y sin la corrección.\n",
    "\n",
    "$$C=\\frac{(\\lambda+i\\nu_0)^2 - \\omega^2}{((\\lambda+i\\nu_0)^2 + \\omega^2)^2} $$\n",
    "\n",
    "Programo una función G y una función G más la corrección. $\\chi$ y $\\alpha$ se definen como constantes globales. Se trabaja con $\\frac{\\delta}{\\nu_0} = a$ como la variable, haciendo la sustitución se llega a que la corrección es\n",
    "\n",
    "\n",
    "$$C=\\frac{(-k+i\\nu_0(a+1))^2 - \\omega^2}{((-k+i\\nu_0(a+1))^2 + \\omega^2)^2} $$\n",
    "\n",
    "y se toma un rango de $a \\in [-2,2]$ para los calculos. Todos los parámetros se definen en terminos de $\\nu_0$\n",
    "\n",
    "\n"
   ]
  },
  {
   "cell_type": "code",
   "execution_count": 1,
   "metadata": {},
   "outputs": [
    {
     "name": "stdout",
     "output_type": "stream",
     "text": [
      "1000\n",
      "2.0\n",
      "100.0\n",
      "500\n"
     ]
    }
   ],
   "source": [
    "#Calcular temperatura\n",
    "\n",
    "nu0=1000\n",
    "m=500\n",
    "chi = 1\n",
    "alpha =1\n",
    "k = .5*nu0 #kappa es el decaimiento de la cavidad\n",
    "w = nu0/m;\n",
    "ep=nu0/10 #El valor de epsilon\n",
    "\n",
    "function Aminus(a,epsilon)\n",
    "    k*chi*alpha/(k^2+nu0^2*(a+1)^2)+real(im*epsilon*((-k+im*nu0*(a+1))^2-4*w^2)/((-k+im*nu0*(a+1))^2+4*w^2)^2)\n",
    "end\n",
    "\n",
    "function Aplus(a,epsilon)\n",
    "    k*chi*alpha/(k^2+nu0^2*(a-1)^2)+real(im*epsilon*((-k+im*nu0*(a-1))^2-4*w^2)/((-k+im*nu0*(a-1))^2+4*w^2)^2)\n",
    "end\n",
    "n=6\n",
    "mesh =2^n\n",
    "y=Vector(undef,2^(n+2)+1)\n",
    "ye=Vector(undef,2^(n+2)+1)\n",
    "x=Vector(undef,2^(n+2)+1)\n",
    "temp=Vector(undef,2^(n+2)+1)\n",
    "tempe=Vector(undef,2^(n+2)+1)\n",
    "i=1\n",
    "plotvariable=zeros(6,2^(n+2)+1)\n",
    "asdf=[]\n",
    "\n",
    "for j=0:1:5\n",
    "    for a=-2:1/mesh:2\n",
    "        temp[i]=Aplus(a,0)/(Aminus(a,0)-Aplus(a,0))\n",
    "        tempe[i]=Aplus(a,ep*j)/(Aminus(a,ep*j)-Aplus(a,ep*j))  \n",
    "        x[i]=a\n",
    "        plotvariable[j+1,i]=tempe[i]\n",
    "        i+=1\n",
    "    end\n",
    "    push!(asdf,plotvariable[j+1,:])\n",
    "    i=1\n",
    "end\n",
    "\n",
    "println(nu0)\n",
    "println(w)\n",
    "println(ep)\n",
    "println(m)\n",
    "\n"
   ]
  },
  {
   "cell_type": "code",
   "execution_count": 38,
   "metadata": {},
   "outputs": [],
   "source": [
    "#Calcular A\n",
    "\n",
    "nu0=1000\n",
    "m=500\n",
    "chi = 1\n",
    "alpha =1\n",
    "k = .5*nu0 #kappa es el decaimiento de la cavidad\n",
    "w = nu0/m;\n",
    "ep=nu0/10 #El valor de epsilon\n",
    "\n",
    "function Aminus(a,epsilon)\n",
    "    k*chi*alpha/(k^2+nu0^2*(a+1)^2)+real(im*epsilon*((-k+im*nu0*(a+1))^2-4*w^2)/((-k+im*nu0*(a+1))^2+4*w^2)^2)\n",
    "end\n",
    "\n",
    "function Aplus(a,epsilon)\n",
    "    k*chi*alpha/(k^2+nu0^2*(a-1)^2)+real(im*epsilon*((-k+im*nu0*(a-1))^2-4*w^2)/((-k+im*nu0*(a-1))^2+4*w^2)^2)\n",
    "end\n",
    "n=6\n",
    "mesh =2^n\n",
    "y=Vector(undef,2^(n+2)+1)\n",
    "ye=Vector(undef,2^(n+2)+1)\n",
    "x=Vector(undef,2^(n+2)+1)\n",
    "temp=Vector(undef,2^(n+2)+1)\n",
    "tempe=Vector(undef,2^(n+2)+1)\n",
    "i=1\n",
    "plotvariable=zeros(6,2^(n+2)+1)\n",
    "asdf=[]\n",
    "\n",
    "for j=0:1:5\n",
    "    for a=-2:1/mesh:2\n",
    "        temp[i]=Aplus(a,0)/(Aminus(a,0)-Aplus(a,0))\n",
    "        tempe[i]=Aminus(a,ep*j)#/(Aminus(a,ep*j)-Aplus(a,ep*j))  \n",
    "        x[i]=a\n",
    "        plotvariable[j+1,i]=tempe[i]\n",
    "        i+=1\n",
    "    end\n",
    "    push!(asdf,plotvariable[j+1,:])\n",
    "    i=1\n",
    "end"
   ]
  },
  {
   "cell_type": "code",
   "execution_count": 2,
   "metadata": {},
   "outputs": [],
   "source": [
    "using LaTeXStrings\n",
    "using Plots"
   ]
  },
  {
   "cell_type": "code",
   "execution_count": 44,
   "metadata": {},
   "outputs": [],
   "source": [
    "a=plot(x,asdf,\n",
    "    title=L\"A_-\",\n",
    "    xaxis=L\"\\delta/\\nu_0\",xlims=(-2,0),\n",
    "    yaxis=\"Cooling Rate\",ylims=(.0000,.004),\n",
    "    linestyle= :auto,linewidth=2,\n",
    "    legend=:topright,\n",
    "    label=[L\"\\epsilon=0\",L\"\\epsilon=\\nu_0/10\",L\"\\epsilon=2\\nu_0/10\",L\"\\epsilon=3\\nu_0/10\",L\"\\epsilon=4\\nu_0/10\",L\"\\epsilon=5\\nu_0/10\"]\n",
    ")\n",
    "savefig(\"GraficaA-.pdf\")"
   ]
  },
  {
   "cell_type": "code",
   "execution_count": 8,
   "metadata": {},
   "outputs": [
    {
     "ename": "UndefVarError",
     "evalue": "UndefVarError: pdf not defined",
     "output_type": "error",
     "traceback": [
      "UndefVarError: pdf not defined",
      "",
      "Stacktrace:",
      " [1] top-level scope at In[8]:1"
     ]
    }
   ],
   "source": [
    "pdf(a,\"GraficaTemp\")"
   ]
  },
  {
   "cell_type": "code",
   "execution_count": 30,
   "metadata": {},
   "outputs": [
    {
     "data": {
      "text/plain": [
       "4"
      ]
     },
     "execution_count": 30,
     "metadata": {},
     "output_type": "execute_result"
    }
   ],
   "source": [
    "2+2"
   ]
  },
  {
   "cell_type": "code",
   "execution_count": null,
   "metadata": {},
   "outputs": [],
   "source": []
  }
 ],
 "metadata": {
  "kernelspec": {
   "display_name": "Julia 1.0.1",
   "language": "julia",
   "name": "julia-1.0"
  },
  "language_info": {
   "file_extension": ".jl",
   "mimetype": "application/julia",
   "name": "julia",
   "version": "1.0.1"
  }
 },
 "nbformat": 4,
 "nbformat_minor": 1
}
