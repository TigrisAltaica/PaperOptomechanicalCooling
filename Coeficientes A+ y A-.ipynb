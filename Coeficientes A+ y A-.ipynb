{
 "cells": [
  {
   "cell_type": "markdown",
   "metadata": {},
   "source": [
    "El objetivo es calcular los coeficientes A+ y A- en base a los valores de las distintas frecuencias involucradas y del detuning debido al laser. Defino una función para calcular G y otra que calcula A+ y A- en base a G\n",
    "\n",
    "$$G(\\nu,\\omega,\\lambda)=\\frac{-\\chi^2 \\alpha^2}{\\lambda + i\\nu_0} + i\\epsilon C $$,\n",
    "\n",
    "en particular me interesa conocer el valor de G con y sin la corrección.\n",
    "\n",
    "$$C=\\frac{(\\lambda+i\\nu_0)^2 - \\omega^2}{((\\lambda+i\\nu_0)^2 + \\omega^2)^2} $$\n",
    "\n",
    "Programo una función G y una función G más la corrección. $\\chi$ y $\\alpha$ se definen como constantes globales. Se trabaja con $\\frac{\\delta}{\\nu_0} = a$ como la variable, haciendo la sustitución se llega a que la corrección es\n",
    "\n",
    "\n",
    "$$C=\\frac{(-k+i\\nu_0(a+1))^2 - \\omega^2}{((-k+i\\nu_0(a+1))^2 + \\omega^2)^2} $$\n",
    "\n",
    "y se toma un rango de $a \\in [-2,2]$ para los calculos. Todos los parámetros se definen en terminos de $\\nu_0$\n",
    "\n",
    "\n"
   ]
  },
  {
   "cell_type": "code",
   "execution_count": 22,
   "metadata": {},
   "outputs": [
    {
     "name": "stdout",
     "output_type": "stream",
     "text": [
      "22.0\n",
      "45.45454545454545\n",
      "96.8\n"
     ]
    }
   ],
   "source": [
    "nu0=1000\n",
    "m=round(Int,sqrt(.5*nu0))\n",
    "chi = 1\n",
    "alpha =1\n",
    "k = .5*nu0 #kappa es el decaimiento de la cavidad\n",
    "w = nu0/m;\n",
    "ep=(m^2)/5 #El valor de epsilon\n",
    "\n",
    "function Aminus(a,epsilon)\n",
    "    k*chi*alpha/(k^2+nu0^2*(a+1)^2)+real(im*epsilon*((-k+im*nu0*(a+1))^2-4*w^2)/((-k+im*nu0*(a+1))^2+4*w^2)^2)\n",
    "end\n",
    "\n",
    "function Aplus(a,epsilon)\n",
    "    k*chi*alpha/(k^2+nu0^2*(a-1)^2)+real(im*epsilon*((-k+im*nu0*(a-1))^2-4*w^2)/((-k+im*nu0*(a-1))^2+4*w^2)^2)\n",
    "end\n",
    "n=6\n",
    "mesh =2^n\n",
    "y=Vector(undef,2^(n+2)+1)\n",
    "ye=Vector(undef,2^(n+2)+1)\n",
    "x=Vector(undef,2^(n+2)+1)\n",
    "temp=Vector(undef,2^(n+2)+1)\n",
    "tempe=Vector(undef,2^(n+2)+1)\n",
    "i=1\n",
    "plotvariable=zeros(6,2^(n+2)+1)\n",
    "asdf=[]\n",
    "\n",
    "for j=0:1:5\n",
    "    for a=-2:1/mesh:2\n",
    "        temp[i]=Aplus(a,0)/(Aminus(a,0)-Aplus(a,0))\n",
    "        tempe[i]=Aplus(a,ep*j)/(Aminus(a,ep*j)-Aplus(a,ep*j))  \n",
    "        x[i]=a\n",
    "        plotvariable[j+1,i]=tempe[i]\n",
    "        i+=1\n",
    "    end\n",
    "    push!(asdf,plotvariable[j+1,:])\n",
    "    i=1\n",
    "end\n",
    "\n",
    "println(nu0/w)\n",
    "println(w)\n",
    "println(ep)\n",
    "\n"
   ]
  },
  {
   "cell_type": "code",
   "execution_count": 25,
   "metadata": {},
   "outputs": [],
   "source": [
    "a=plot(x,asdf,\n",
    "    title=L\"Temperature\",\n",
    "    xaxis=L\"\\delta/\\nu_0\",xlims=(-2,-.9),\n",
    "    yaxis=\"Average Phonon Number\",ylims=(0,.2), \n",
    "    linestyle= :auto,linewidth=3,\n",
    "    legend=:top,\n",
    "    label=[L\"\\epsilon=0\",L\"\\epsilon=\\nu_0/10\",L\"\\epsilon=2\\nu_0/10\",L\"\\epsilon=3\\nu_0/10\",L\"\\epsilon=4\\nu_0/10\",L\"\\epsilon=5\\nu_0/10\"])\n",
    "\n",
    "savefig(\"GraficaTemp.pdf\")\n"
   ]
  },
  {
   "cell_type": "code",
   "execution_count": 1,
   "metadata": {},
   "outputs": [],
   "source": [
    "using LaTeXStrings\n",
    "using Plots"
   ]
  },
  {
   "cell_type": "code",
   "execution_count": 20,
   "metadata": {},
   "outputs": [
    {
     "data": {
      "text/plain": [
       "6-element Array{Any,1}:\n",
       " [0.15625, 0.153574, 0.150918, 0.148281, 0.145665, 0.14307, 0.140497, 0.137946, 0.135417, 0.132911  …  -1.13291, -1.13542, -1.13795, -1.1405, -1.14307, -1.14567, -1.14828, -1.15092, -1.15357, -1.15625]       \n",
       " [0.141683, 0.139129, 0.136596, 0.134086, 0.131599, 0.129135, 0.126696, 0.124281, 0.121892, 0.11953  …  -1.15241, -1.15507, -1.15774, -1.16043, -1.16313, -1.16586, -1.1686, -1.17135, -1.17413, -1.17691]      \n",
       " [0.130862, 0.12842, 0.126002, 0.123607, 0.121237, 0.118893, 0.116574, 0.114281, 0.112015, 0.109777  …  -1.18347, -1.18622, -1.18897, -1.19174, -1.19451, -1.19729, -1.20008, -1.20288, -1.20569, -1.20851]     \n",
       " [0.122506, 0.120165, 0.117847, 0.115555, 0.113288, 0.111047, 0.108832, 0.106645, 0.104485, 0.102354  …  -1.24069, -1.24315, -1.24561, -1.24807, -1.25053, -1.25298, -1.25544, -1.25791, -1.26038, -1.26286]    \n",
       " [0.115859, 0.113606, 0.111377, 0.109173, 0.106996, 0.104844, 0.10272, 0.100623, 0.0985547, 0.096515  …  -1.38117, -1.38049, -1.37988, -1.37936, -1.37894, -1.37862, -1.37839, -1.37827, -1.37825, -1.37833]    \n",
       " [0.110446, 0.108269, 0.106118, 0.103992, 0.101892, 0.0998183, 0.0977719, 0.0957532, 0.0937628, 0.0918014  …  -2.27231, -2.1775, -2.09889, -2.03283, -1.97667, -1.92848, -1.88678, -1.85043, -1.81854, -1.79042]"
      ]
     },
     "execution_count": 20,
     "metadata": {},
     "output_type": "execute_result"
    }
   ],
   "source": [
    "asdf"
   ]
  },
  {
   "cell_type": "code",
   "execution_count": 164,
   "metadata": {},
   "outputs": [
    {
     "data": {
      "image/svg+xml": [
       "<?xml version=\"1.0\" encoding=\"utf-8\"?>\n",
       "<svg xmlns=\"http://www.w3.org/2000/svg\" xmlns:xlink=\"http://www.w3.org/1999/xlink\" width=\"600\" height=\"400\" viewBox=\"0 0 2400 1600\">\n",
       "<defs>\n",
       "  <clipPath id=\"clip3300\">\n",
       "    <rect x=\"0\" y=\"0\" width=\"2000\" height=\"2000\"/>\n",
       "  </clipPath>\n",
       "</defs>\n",
       "<defs>\n",
       "  <clipPath id=\"clip3301\">\n",
       "    <rect x=\"0\" y=\"0\" width=\"2400\" height=\"1600\"/>\n",
       "  </clipPath>\n",
       "</defs>\n",
       "<polygon clip-path=\"url(#clip3301)\" points=\"\n",
       "0,1600 2400,1600 2400,0 0,0 \n",
       "  \" fill=\"#ffffff\" fill-opacity=\"1\"/>\n",
       "<defs>\n",
       "  <clipPath id=\"clip3302\">\n",
       "    <rect x=\"480\" y=\"0\" width=\"1681\" height=\"1600\"/>\n",
       "  </clipPath>\n",
       "</defs>\n",
       "<polygon clip-path=\"url(#clip3301)\" points=\"\n",
       "188.156,1503.47 2321.26,1503.47 2321.26,47.2441 188.156,47.2441 \n",
       "  \" fill=\"#ffffff\" fill-opacity=\"1\"/>\n",
       "<defs>\n",
       "  <clipPath id=\"clip3303\">\n",
       "    <rect x=\"188\" y=\"47\" width=\"2134\" height=\"1457\"/>\n",
       "  </clipPath>\n",
       "</defs>\n",
       "<polyline clip-path=\"url(#clip3303)\" style=\"stroke:#000000; stroke-width:2; stroke-opacity:0.1; fill:none\" points=\"\n",
       "  500.072,1503.47 500.072,47.2441 \n",
       "  \"/>\n",
       "<polyline clip-path=\"url(#clip3303)\" style=\"stroke:#000000; stroke-width:2; stroke-opacity:0.1; fill:none\" points=\"\n",
       "  877.39,1503.47 877.39,47.2441 \n",
       "  \"/>\n",
       "<polyline clip-path=\"url(#clip3303)\" style=\"stroke:#000000; stroke-width:2; stroke-opacity:0.1; fill:none\" points=\"\n",
       "  1254.71,1503.47 1254.71,47.2441 \n",
       "  \"/>\n",
       "<polyline clip-path=\"url(#clip3303)\" style=\"stroke:#000000; stroke-width:2; stroke-opacity:0.1; fill:none\" points=\"\n",
       "  1632.03,1503.47 1632.03,47.2441 \n",
       "  \"/>\n",
       "<polyline clip-path=\"url(#clip3303)\" style=\"stroke:#000000; stroke-width:2; stroke-opacity:0.1; fill:none\" points=\"\n",
       "  2009.34,1503.47 2009.34,47.2441 \n",
       "  \"/>\n",
       "<polyline clip-path=\"url(#clip3303)\" style=\"stroke:#000000; stroke-width:2; stroke-opacity:0.1; fill:none\" points=\"\n",
       "  188.156,1462.91 2321.26,1462.91 \n",
       "  \"/>\n",
       "<polyline clip-path=\"url(#clip3303)\" style=\"stroke:#000000; stroke-width:2; stroke-opacity:0.1; fill:none\" points=\"\n",
       "  188.156,1116.81 2321.26,1116.81 \n",
       "  \"/>\n",
       "<polyline clip-path=\"url(#clip3303)\" style=\"stroke:#000000; stroke-width:2; stroke-opacity:0.1; fill:none\" points=\"\n",
       "  188.156,770.705 2321.26,770.705 \n",
       "  \"/>\n",
       "<polyline clip-path=\"url(#clip3303)\" style=\"stroke:#000000; stroke-width:2; stroke-opacity:0.1; fill:none\" points=\"\n",
       "  188.156,424.6 2321.26,424.6 \n",
       "  \"/>\n",
       "<polyline clip-path=\"url(#clip3303)\" style=\"stroke:#000000; stroke-width:2; stroke-opacity:0.1; fill:none\" points=\"\n",
       "  188.156,78.4955 2321.26,78.4955 \n",
       "  \"/>\n",
       "<polyline clip-path=\"url(#clip3301)\" style=\"stroke:#000000; stroke-width:4; stroke-opacity:1; fill:none\" points=\"\n",
       "  188.156,1503.47 2321.26,1503.47 \n",
       "  \"/>\n",
       "<polyline clip-path=\"url(#clip3301)\" style=\"stroke:#000000; stroke-width:4; stroke-opacity:1; fill:none\" points=\"\n",
       "  188.156,1503.47 188.156,47.2441 \n",
       "  \"/>\n",
       "<polyline clip-path=\"url(#clip3301)\" style=\"stroke:#000000; stroke-width:4; stroke-opacity:1; fill:none\" points=\"\n",
       "  500.072,1503.47 500.072,1481.63 \n",
       "  \"/>\n",
       "<polyline clip-path=\"url(#clip3301)\" style=\"stroke:#000000; stroke-width:4; stroke-opacity:1; fill:none\" points=\"\n",
       "  877.39,1503.47 877.39,1481.63 \n",
       "  \"/>\n",
       "<polyline clip-path=\"url(#clip3301)\" style=\"stroke:#000000; stroke-width:4; stroke-opacity:1; fill:none\" points=\"\n",
       "  1254.71,1503.47 1254.71,1481.63 \n",
       "  \"/>\n",
       "<polyline clip-path=\"url(#clip3301)\" style=\"stroke:#000000; stroke-width:4; stroke-opacity:1; fill:none\" points=\"\n",
       "  1632.03,1503.47 1632.03,1481.63 \n",
       "  \"/>\n",
       "<polyline clip-path=\"url(#clip3301)\" style=\"stroke:#000000; stroke-width:4; stroke-opacity:1; fill:none\" points=\"\n",
       "  2009.34,1503.47 2009.34,1481.63 \n",
       "  \"/>\n",
       "<polyline clip-path=\"url(#clip3301)\" style=\"stroke:#000000; stroke-width:4; stroke-opacity:1; fill:none\" points=\"\n",
       "  188.156,1462.91 220.153,1462.91 \n",
       "  \"/>\n",
       "<polyline clip-path=\"url(#clip3301)\" style=\"stroke:#000000; stroke-width:4; stroke-opacity:1; fill:none\" points=\"\n",
       "  188.156,1116.81 220.153,1116.81 \n",
       "  \"/>\n",
       "<polyline clip-path=\"url(#clip3301)\" style=\"stroke:#000000; stroke-width:4; stroke-opacity:1; fill:none\" points=\"\n",
       "  188.156,770.705 220.153,770.705 \n",
       "  \"/>\n",
       "<polyline clip-path=\"url(#clip3301)\" style=\"stroke:#000000; stroke-width:4; stroke-opacity:1; fill:none\" points=\"\n",
       "  188.156,424.6 220.153,424.6 \n",
       "  \"/>\n",
       "<polyline clip-path=\"url(#clip3301)\" style=\"stroke:#000000; stroke-width:4; stroke-opacity:1; fill:none\" points=\"\n",
       "  188.156,78.4955 220.153,78.4955 \n",
       "  \"/>\n",
       "<g clip-path=\"url(#clip3301)\">\n",
       "<text style=\"fill:#000000; fill-opacity:1; font-family:Arial,Helvetica Neue,Helvetica,sans-serif; font-size:48px; text-anchor:middle;\" transform=\"rotate(0, 500.072, 1557.47)\" x=\"500.072\" y=\"1557.47\">3</text>\n",
       "</g>\n",
       "<g clip-path=\"url(#clip3301)\">\n",
       "<text style=\"fill:#000000; fill-opacity:1; font-family:Arial,Helvetica Neue,Helvetica,sans-serif; font-size:48px; text-anchor:middle;\" transform=\"rotate(0, 877.39, 1557.47)\" x=\"877.39\" y=\"1557.47\">6</text>\n",
       "</g>\n",
       "<g clip-path=\"url(#clip3301)\">\n",
       "<text style=\"fill:#000000; fill-opacity:1; font-family:Arial,Helvetica Neue,Helvetica,sans-serif; font-size:48px; text-anchor:middle;\" transform=\"rotate(0, 1254.71, 1557.47)\" x=\"1254.71\" y=\"1557.47\">9</text>\n",
       "</g>\n",
       "<g clip-path=\"url(#clip3301)\">\n",
       "<text style=\"fill:#000000; fill-opacity:1; font-family:Arial,Helvetica Neue,Helvetica,sans-serif; font-size:48px; text-anchor:middle;\" transform=\"rotate(0, 1632.03, 1557.47)\" x=\"1632.03\" y=\"1557.47\">12</text>\n",
       "</g>\n",
       "<g clip-path=\"url(#clip3301)\">\n",
       "<text style=\"fill:#000000; fill-opacity:1; font-family:Arial,Helvetica Neue,Helvetica,sans-serif; font-size:48px; text-anchor:middle;\" transform=\"rotate(0, 2009.34, 1557.47)\" x=\"2009.34\" y=\"1557.47\">15</text>\n",
       "</g>\n",
       "<g clip-path=\"url(#clip3301)\">\n",
       "<text style=\"fill:#000000; fill-opacity:1; font-family:Arial,Helvetica Neue,Helvetica,sans-serif; font-size:48px; text-anchor:end;\" transform=\"rotate(0, 164.156, 1480.41)\" x=\"164.156\" y=\"1480.41\">0.00</text>\n",
       "</g>\n",
       "<g clip-path=\"url(#clip3301)\">\n",
       "<text style=\"fill:#000000; fill-opacity:1; font-family:Arial,Helvetica Neue,Helvetica,sans-serif; font-size:48px; text-anchor:end;\" transform=\"rotate(0, 164.156, 1134.31)\" x=\"164.156\" y=\"1134.31\">0.25</text>\n",
       "</g>\n",
       "<g clip-path=\"url(#clip3301)\">\n",
       "<text style=\"fill:#000000; fill-opacity:1; font-family:Arial,Helvetica Neue,Helvetica,sans-serif; font-size:48px; text-anchor:end;\" transform=\"rotate(0, 164.156, 788.205)\" x=\"164.156\" y=\"788.205\">0.50</text>\n",
       "</g>\n",
       "<g clip-path=\"url(#clip3301)\">\n",
       "<text style=\"fill:#000000; fill-opacity:1; font-family:Arial,Helvetica Neue,Helvetica,sans-serif; font-size:48px; text-anchor:end;\" transform=\"rotate(0, 164.156, 442.1)\" x=\"164.156\" y=\"442.1\">0.75</text>\n",
       "</g>\n",
       "<g clip-path=\"url(#clip3301)\">\n",
       "<text style=\"fill:#000000; fill-opacity:1; font-family:Arial,Helvetica Neue,Helvetica,sans-serif; font-size:48px; text-anchor:end;\" transform=\"rotate(0, 164.156, 95.9955)\" x=\"164.156\" y=\"95.9955\">1.00</text>\n",
       "</g>\n",
       "<polyline clip-path=\"url(#clip3303)\" style=\"stroke:#009af9; stroke-width:4; stroke-opacity:1; fill:none\" points=\"\n",
       "  248.527,1415.73 374.3,853.617 500.072,654.983 625.845,721.881 751.618,979.47 877.39,1230.12 1003.16,228.895 1128.94,908.189 1254.71,1350.38 1380.48,1316.97 \n",
       "  1506.25,403.47 1632.03,1461.32 1757.8,783.412 1883.57,1413.51 2009.34,1320.35 2135.12,136.346 2260.89,518.233 \n",
       "  \"/>\n",
       "<polyline clip-path=\"url(#clip3303)\" style=\"stroke:#e26f46; stroke-width:4; stroke-opacity:1; fill:none\" points=\"\n",
       "  248.527,347.861 374.3,716.821 500.072,281.907 625.845,396.838 751.618,102.327 877.39,663.055 1003.16,500.394 1128.94,699.468 1254.71,1241.93 1380.48,218.292 \n",
       "  1506.25,435.609 1632.03,482.229 1757.8,945.385 1883.57,206.006 2009.34,1080.13 2135.12,1230.01 2260.89,671.739 \n",
       "  \"/>\n",
       "<polyline clip-path=\"url(#clip3303)\" style=\"stroke:#3da44d; stroke-width:4; stroke-opacity:1; fill:none\" points=\"\n",
       "  248.527,773.841 374.3,1320.98 500.072,1202.52 625.845,1227.14 751.618,1238.03 877.39,428.088 1003.16,1389.56 1128.94,574.961 1254.71,840.014 1380.48,1357.35 \n",
       "  1506.25,451.556 1632.03,718.203 1757.8,780.798 1883.57,1213.07 2009.34,595.707 2135.12,923.936 2260.89,211.062 \n",
       "  \"/>\n",
       "<polyline clip-path=\"url(#clip3303)\" style=\"stroke:#c271d2; stroke-width:4; stroke-opacity:1; fill:none\" points=\"\n",
       "  248.527,931.153 374.3,654.305 500.072,1194.71 625.845,229.423 751.618,903.248 877.39,236.479 1003.16,728.17 1128.94,107.205 1254.71,919.149 1380.48,659.093 \n",
       "  1506.25,1009.71 1632.03,918.648 1757.8,419.05 1883.57,717.095 2009.34,608.252 2135.12,1278.89 2260.89,1103.32 \n",
       "  \"/>\n",
       "<polyline clip-path=\"url(#clip3303)\" style=\"stroke:#ac8d18; stroke-width:4; stroke-opacity:1; fill:none\" points=\"\n",
       "  248.527,880.2 374.3,317.337 500.072,755.031 625.845,871.826 751.618,473.214 877.39,246.228 1003.16,825.866 1128.94,225.612 1254.71,1273.37 1380.48,1086.14 \n",
       "  1506.25,1009.7 1632.03,1360.13 1757.8,88.4582 1883.57,502.967 2009.34,1160.59 2135.12,1305.2 2260.89,1462.26 \n",
       "  \"/>\n",
       "<polyline clip-path=\"url(#clip3303)\" style=\"stroke:#00a9ad; stroke-width:4; stroke-opacity:1; fill:none\" points=\"\n",
       "  248.527,878.705 374.3,1350.93 500.072,975.646 625.845,1329.71 751.618,782.729 877.39,687.258 1003.16,506.614 1128.94,884.37 1254.71,179.382 1380.48,1312.47 \n",
       "  1506.25,1137.54 1632.03,133.161 1757.8,1194.41 1883.57,719.146 2009.34,242.561 2135.12,814.012 2260.89,401.651 \n",
       "  \"/>\n",
       "<polygon clip-path=\"url(#clip3301)\" points=\"\n",
       "1958.43,554.124 2249.26,554.124 2249.26,130.764 1958.43,130.764 \n",
       "  \" fill=\"#ffffff\" fill-opacity=\"1\"/>\n",
       "<polyline clip-path=\"url(#clip3301)\" style=\"stroke:#000000; stroke-width:4; stroke-opacity:1; fill:none\" points=\"\n",
       "  1958.43,554.124 2249.26,554.124 2249.26,130.764 1958.43,130.764 1958.43,554.124 \n",
       "  \"/>\n",
       "<polyline clip-path=\"url(#clip3301)\" style=\"stroke:#009af9; stroke-width:4; stroke-opacity:1; fill:none\" points=\"\n",
       "  1982.43,191.244 2126.43,191.244 \n",
       "  \"/>\n",
       "<g clip-path=\"url(#clip3301)\">\n",
       "<text style=\"fill:#000000; fill-opacity:1; font-family:Arial,Helvetica Neue,Helvetica,sans-serif; font-size:48px; text-anchor:start;\" transform=\"rotate(0, 2150.43, 208.744)\" x=\"2150.43\" y=\"208.744\">y1</text>\n",
       "</g>\n",
       "<polyline clip-path=\"url(#clip3301)\" style=\"stroke:#e26f46; stroke-width:4; stroke-opacity:1; fill:none\" points=\"\n",
       "  1982.43,251.724 2126.43,251.724 \n",
       "  \"/>\n",
       "<g clip-path=\"url(#clip3301)\">\n",
       "<text style=\"fill:#000000; fill-opacity:1; font-family:Arial,Helvetica Neue,Helvetica,sans-serif; font-size:48px; text-anchor:start;\" transform=\"rotate(0, 2150.43, 269.224)\" x=\"2150.43\" y=\"269.224\">y2</text>\n",
       "</g>\n",
       "<polyline clip-path=\"url(#clip3301)\" style=\"stroke:#3da44d; stroke-width:4; stroke-opacity:1; fill:none\" points=\"\n",
       "  1982.43,312.204 2126.43,312.204 \n",
       "  \"/>\n",
       "<g clip-path=\"url(#clip3301)\">\n",
       "<text style=\"fill:#000000; fill-opacity:1; font-family:Arial,Helvetica Neue,Helvetica,sans-serif; font-size:48px; text-anchor:start;\" transform=\"rotate(0, 2150.43, 329.704)\" x=\"2150.43\" y=\"329.704\">y3</text>\n",
       "</g>\n",
       "<polyline clip-path=\"url(#clip3301)\" style=\"stroke:#c271d2; stroke-width:4; stroke-opacity:1; fill:none\" points=\"\n",
       "  1982.43,372.684 2126.43,372.684 \n",
       "  \"/>\n",
       "<g clip-path=\"url(#clip3301)\">\n",
       "<text style=\"fill:#000000; fill-opacity:1; font-family:Arial,Helvetica Neue,Helvetica,sans-serif; font-size:48px; text-anchor:start;\" transform=\"rotate(0, 2150.43, 390.184)\" x=\"2150.43\" y=\"390.184\">y4</text>\n",
       "</g>\n",
       "<polyline clip-path=\"url(#clip3301)\" style=\"stroke:#ac8d18; stroke-width:4; stroke-opacity:1; fill:none\" points=\"\n",
       "  1982.43,433.164 2126.43,433.164 \n",
       "  \"/>\n",
       "<g clip-path=\"url(#clip3301)\">\n",
       "<text style=\"fill:#000000; fill-opacity:1; font-family:Arial,Helvetica Neue,Helvetica,sans-serif; font-size:48px; text-anchor:start;\" transform=\"rotate(0, 2150.43, 450.664)\" x=\"2150.43\" y=\"450.664\">y5</text>\n",
       "</g>\n",
       "<polyline clip-path=\"url(#clip3301)\" style=\"stroke:#00a9ad; stroke-width:4; stroke-opacity:1; fill:none\" points=\"\n",
       "  1982.43,493.644 2126.43,493.644 \n",
       "  \"/>\n",
       "<g clip-path=\"url(#clip3301)\">\n",
       "<text style=\"fill:#000000; fill-opacity:1; font-family:Arial,Helvetica Neue,Helvetica,sans-serif; font-size:48px; text-anchor:start;\" transform=\"rotate(0, 2150.43, 511.144)\" x=\"2150.43\" y=\"511.144\">y6</text>\n",
       "</g>\n",
       "</svg>\n"
      ]
     },
     "execution_count": 164,
     "metadata": {},
     "output_type": "execute_result"
    }
   ],
   "source": [
    "plot(plotvariable)"
   ]
  },
  {
   "cell_type": "code",
   "execution_count": 173,
   "metadata": {},
   "outputs": [
    {
     "data": {
      "text/plain": [
       "5×10 Array{Float64,2}:\n",
       " 0.246445   0.649697   0.609904  0.257914  …  0.706558  0.122665   0.716971 \n",
       " 0.843134   0.686266   0.749568  0.40201      0.440493  0.0992014  0.72913  \n",
       " 0.843795   0.0330203  0.368714  0.156112     0.868201  0.4057     0.0776203\n",
       " 0.0637781  0.676759   0.484756  0.957422     0.711101  0.457091   0.935928 \n",
       " 0.787975   0.645031   0.466904  0.302374     0.739999  0.465048   0.921212 "
      ]
     },
     "execution_count": 173,
     "metadata": {},
     "output_type": "execute_result"
    }
   ],
   "source": [
    "RAND = rand(5,10)"
   ]
  },
  {
   "cell_type": "code",
   "execution_count": 175,
   "metadata": {},
   "outputs": [
    {
     "data": {
      "text/plain": [
       "5-element Array{Any,1}:\n",
       " [0.246445, 0.649697, 0.609904, 0.257914, 0.32328, 0.997698, 0.921301, 0.706558, 0.122665, 0.716971]  \n",
       " [0.843134, 0.686266, 0.749568, 0.40201, 0.0181411, 0.733307, 0.0904283, 0.440493, 0.0992014, 0.72913]\n",
       " [0.843795, 0.0330203, 0.368714, 0.156112, 0.441265, 0.260331, 0.248475, 0.868201, 0.4057, 0.0776203] \n",
       " [0.0637781, 0.676759, 0.484756, 0.957422, 0.398253, 0.230179, 0.602358, 0.711101, 0.457091, 0.935928]\n",
       " [0.787975, 0.645031, 0.466904, 0.302374, 0.396545, 0.256006, 0.273628, 0.739999, 0.465048, 0.921212] "
      ]
     },
     "execution_count": 175,
     "metadata": {},
     "output_type": "execute_result"
    }
   ],
   "source": [
    "aux=[]\n",
    "for j=1:5\n",
    "    push!(aux,RAND[j,:])\n",
    "end\n",
    "aux   "
   ]
  },
  {
   "cell_type": "code",
   "execution_count": 47,
   "metadata": {},
   "outputs": [
    {
     "data": {
      "text/plain": [
       "2×257 Array{Float64,2}:\n",
       " 1.0  0.0  0.0  0.0  0.0  0.0  0.0  0.0  …  0.0  0.0  0.0  0.0  0.0  0.0  0.0\n",
       " 0.0  0.0  0.0  0.0  0.0  0.0  0.0  0.0     0.0  0.0  0.0  0.0  0.0  0.0  0.0"
      ]
     },
     "execution_count": 47,
     "metadata": {},
     "output_type": "execute_result"
    }
   ],
   "source": [
    "y"
   ]
  },
  {
   "cell_type": "code",
   "execution_count": null,
   "metadata": {},
   "outputs": [],
   "source": []
  }
 ],
 "metadata": {
  "kernelspec": {
   "display_name": "Julia 1.0.1",
   "language": "julia",
   "name": "julia-1.0"
  },
  "language_info": {
   "file_extension": ".jl",
   "mimetype": "application/julia",
   "name": "julia",
   "version": "1.0.1"
  }
 },
 "nbformat": 4,
 "nbformat_minor": 1
}
